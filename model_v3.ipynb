{
 "cells": [
  {
   "cell_type": "code",
   "execution_count": 1,
   "id": "72115a68-cc7b-47d5-909e-dfbc5d90b4ed",
   "metadata": {},
   "outputs": [
    {
     "name": "stdout",
     "output_type": "stream",
     "text": [
      "Requirement already satisfied: numpy in c:\\users\\musta\\appdata\\local\\programs\\python\\python311\\lib\\site-packages (1.23.5)\n",
      "Requirement already satisfied: pandas in c:\\users\\musta\\appdata\\local\\programs\\python\\python311\\lib\\site-packages (2.1.4)\n",
      "Requirement already satisfied: numpy<2,>=1.23.2 in c:\\users\\musta\\appdata\\local\\programs\\python\\python311\\lib\\site-packages (from pandas) (1.23.5)\n",
      "Requirement already satisfied: python-dateutil>=2.8.2 in c:\\users\\musta\\appdata\\local\\programs\\python\\python311\\lib\\site-packages (from pandas) (2.8.2)\n",
      "Requirement already satisfied: pytz>=2020.1 in c:\\users\\musta\\appdata\\local\\programs\\python\\python311\\lib\\site-packages (from pandas) (2023.3.post1)\n",
      "Requirement already satisfied: tzdata>=2022.1 in c:\\users\\musta\\appdata\\local\\programs\\python\\python311\\lib\\site-packages (from pandas) (2023.4)\n",
      "Requirement already satisfied: six>=1.5 in c:\\users\\musta\\appdata\\local\\programs\\python\\python311\\lib\\site-packages (from python-dateutil>=2.8.2->pandas) (1.16.0)\n",
      "Requirement already satisfied: seaborn in c:\\users\\musta\\appdata\\local\\programs\\python\\python311\\lib\\site-packages (0.13.1)\n",
      "Requirement already satisfied: numpy!=1.24.0,>=1.20 in c:\\users\\musta\\appdata\\local\\programs\\python\\python311\\lib\\site-packages (from seaborn) (1.23.5)\n",
      "Requirement already satisfied: pandas>=1.2 in c:\\users\\musta\\appdata\\local\\programs\\python\\python311\\lib\\site-packages (from seaborn) (2.1.4)\n",
      "Requirement already satisfied: matplotlib!=3.6.1,>=3.4 in c:\\users\\musta\\appdata\\local\\programs\\python\\python311\\lib\\site-packages (from seaborn) (3.6.2)\n",
      "Requirement already satisfied: contourpy>=1.0.1 in c:\\users\\musta\\appdata\\local\\programs\\python\\python311\\lib\\site-packages (from matplotlib!=3.6.1,>=3.4->seaborn) (1.0.6)\n",
      "Requirement already satisfied: cycler>=0.10 in c:\\users\\musta\\appdata\\local\\programs\\python\\python311\\lib\\site-packages (from matplotlib!=3.6.1,>=3.4->seaborn) (0.11.0)\n",
      "Requirement already satisfied: fonttools>=4.22.0 in c:\\users\\musta\\appdata\\local\\programs\\python\\python311\\lib\\site-packages (from matplotlib!=3.6.1,>=3.4->seaborn) (4.38.0)\n",
      "Requirement already satisfied: kiwisolver>=1.0.1 in c:\\users\\musta\\appdata\\local\\programs\\python\\python311\\lib\\site-packages (from matplotlib!=3.6.1,>=3.4->seaborn) (1.4.4)\n",
      "Requirement already satisfied: packaging>=20.0 in c:\\users\\musta\\appdata\\local\\programs\\python\\python311\\lib\\site-packages (from matplotlib!=3.6.1,>=3.4->seaborn) (21.3)\n",
      "Requirement already satisfied: pillow>=6.2.0 in c:\\users\\musta\\appdata\\local\\programs\\python\\python311\\lib\\site-packages (from matplotlib!=3.6.1,>=3.4->seaborn) (10.1.0)\n",
      "Requirement already satisfied: pyparsing>=2.2.1 in c:\\users\\musta\\appdata\\local\\programs\\python\\python311\\lib\\site-packages (from matplotlib!=3.6.1,>=3.4->seaborn) (3.0.9)\n",
      "Requirement already satisfied: python-dateutil>=2.7 in c:\\users\\musta\\appdata\\local\\programs\\python\\python311\\lib\\site-packages (from matplotlib!=3.6.1,>=3.4->seaborn) (2.8.2)\n",
      "Requirement already satisfied: pytz>=2020.1 in c:\\users\\musta\\appdata\\local\\programs\\python\\python311\\lib\\site-packages (from pandas>=1.2->seaborn) (2023.3.post1)\n",
      "Requirement already satisfied: tzdata>=2022.1 in c:\\users\\musta\\appdata\\local\\programs\\python\\python311\\lib\\site-packages (from pandas>=1.2->seaborn) (2023.4)\n",
      "Requirement already satisfied: six>=1.5 in c:\\users\\musta\\appdata\\local\\programs\\python\\python311\\lib\\site-packages (from python-dateutil>=2.7->matplotlib!=3.6.1,>=3.4->seaborn) (1.16.0)\n",
      "Requirement already satisfied: scikit-learn in c:\\users\\musta\\appdata\\local\\programs\\python\\python311\\lib\\site-packages (1.3.2)\n",
      "Requirement already satisfied: numpy<2.0,>=1.17.3 in c:\\users\\musta\\appdata\\local\\programs\\python\\python311\\lib\\site-packages (from scikit-learn) (1.23.5)\n",
      "Requirement already satisfied: scipy>=1.5.0 in c:\\users\\musta\\appdata\\local\\programs\\python\\python311\\lib\\site-packages (from scikit-learn) (1.11.4)\n",
      "Requirement already satisfied: joblib>=1.1.1 in c:\\users\\musta\\appdata\\local\\programs\\python\\python311\\lib\\site-packages (from scikit-learn) (1.3.2)\n",
      "Requirement already satisfied: threadpoolctl>=2.0.0 in c:\\users\\musta\\appdata\\local\\programs\\python\\python311\\lib\\site-packages (from scikit-learn) (3.2.0)\n",
      "Requirement already satisfied: scipy in c:\\users\\musta\\appdata\\local\\programs\\python\\python311\\lib\\site-packages (1.11.4)\n",
      "Requirement already satisfied: numpy<1.28.0,>=1.21.6 in c:\\users\\musta\\appdata\\local\\programs\\python\\python311\\lib\\site-packages (from scipy) (1.23.5)\n"
     ]
    }
   ],
   "source": [
    "#!Pip install numpy\n",
    "#!Pip install pandas\n",
    "#!Pip install seaborn\n",
    "#!Pip install scikit-learn\n",
    "#!Pip install scipy"
   ]
  },
  {
   "cell_type": "code",
   "execution_count": 2,
   "id": "0124df7f-595b-4f27-8f4c-3fb38512ce18",
   "metadata": {},
   "outputs": [],
   "source": [
    "import os\n",
    "import pandas as pd\n",
    "import numpy as np\n",
    "from scipy.stats import randint\n",
    "import seaborn as sns # used for plot interactive graph.\n",
    "import matplotlib.pyplot as plt\n",
    "import seaborn as sns\n",
    "from io import StringIO\n",
    "from sklearn.feature_extraction.text import TfidfVectorizer\n",
    "from sklearn.feature_selection import chi2\n",
    "from IPython.display import display\n",
    "from sklearn.model_selection import train_test_split\n",
    "from sklearn.feature_extraction.text import TfidfTransformer\n",
    "from sklearn.naive_bayes import MultinomialNB\n",
    "from sklearn.linear_model import LogisticRegression\n",
    "from sklearn.ensemble import RandomForestClassifier\n",
    "from sklearn.svm import LinearSVC\n",
    "from sklearn.model_selection import cross_val_score\n",
    "from sklearn.metrics import confusion_matrix\n",
    "from sklearn import metrics"
   ]
  },
  {
   "cell_type": "code",
   "execution_count": 4,
   "id": "b1f39860-10b4-40f9-a809-694c82d0ace7",
   "metadata": {},
   "outputs": [
    {
     "name": "stdout",
     "output_type": "stream",
     "text": [
      "(1998, 2)\n"
     ]
    }
   ],
   "source": [
    "# loading data\n",
    "df = pd.read_csv('sampled_data.csv')\n",
    "print(df.shape)"
   ]
  },
  {
   "cell_type": "code",
   "execution_count": 5,
   "id": "2a33ccf3-2aa0-489e-805f-06e3823d3687",
   "metadata": {},
   "outputs": [
    {
     "data": {
      "text/html": [
       "<div>\n",
       "<style scoped>\n",
       "    .dataframe tbody tr th:only-of-type {\n",
       "        vertical-align: middle;\n",
       "    }\n",
       "\n",
       "    .dataframe tbody tr th {\n",
       "        vertical-align: top;\n",
       "    }\n",
       "\n",
       "    .dataframe thead th {\n",
       "        text-align: right;\n",
       "    }\n",
       "</style>\n",
       "<table border=\"1\" class=\"dataframe\">\n",
       "  <thead>\n",
       "    <tr style=\"text-align: right;\">\n",
       "      <th></th>\n",
       "      <th>0</th>\n",
       "      <th>1</th>\n",
       "      <th>2</th>\n",
       "    </tr>\n",
       "  </thead>\n",
       "  <tbody>\n",
       "    <tr>\n",
       "      <th>Haber Gövdesi</th>\n",
       "      <td>USTA OYUNCU RUTKAY AZİZ, 'ANKARA'NIN NESİ GÜZ...</td>\n",
       "      <td>Aleksandre Kodan'ın, BabbaMedia etiketiyle yay...</td>\n",
       "      <td>Emrah’ın yıllardır küs olduğu oğlu Tayfun evle...</td>\n",
       "    </tr>\n",
       "    <tr>\n",
       "      <th>Sınıf</th>\n",
       "      <td>Magazin</td>\n",
       "      <td>Magazin</td>\n",
       "      <td>Magazin</td>\n",
       "    </tr>\n",
       "  </tbody>\n",
       "</table>\n",
       "</div>"
      ],
      "text/plain": [
       "                                                               0  \\\n",
       "Haber Gövdesi   USTA OYUNCU RUTKAY AZİZ, 'ANKARA'NIN NESİ GÜZ...   \n",
       "Sınıf                                                    Magazin   \n",
       "\n",
       "                                                               1  \\\n",
       "Haber Gövdesi  Aleksandre Kodan'ın, BabbaMedia etiketiyle yay...   \n",
       "Sınıf                                                    Magazin   \n",
       "\n",
       "                                                               2  \n",
       "Haber Gövdesi  Emrah’ın yıllardır küs olduğu oğlu Tayfun evle...  \n",
       "Sınıf                                                    Magazin  "
      ]
     },
     "execution_count": 5,
     "metadata": {},
     "output_type": "execute_result"
    }
   ],
   "source": [
    "df.head(3).T"
   ]
  },
  {
   "cell_type": "code",
   "execution_count": 6,
   "id": "cf330d35-70e7-45f4-a1a8-bc075a19c77a",
   "metadata": {},
   "outputs": [
    {
     "name": "stdout",
     "output_type": "stream",
     "text": [
      "(1998, 2)\n"
     ]
    },
    {
     "data": {
      "text/html": [
       "<div>\n",
       "<style scoped>\n",
       "    .dataframe tbody tr th:only-of-type {\n",
       "        vertical-align: middle;\n",
       "    }\n",
       "\n",
       "    .dataframe tbody tr th {\n",
       "        vertical-align: top;\n",
       "    }\n",
       "\n",
       "    .dataframe thead th {\n",
       "        text-align: right;\n",
       "    }\n",
       "</style>\n",
       "<table border=\"1\" class=\"dataframe\">\n",
       "  <thead>\n",
       "    <tr style=\"text-align: right;\">\n",
       "      <th></th>\n",
       "      <th>0</th>\n",
       "      <th>1</th>\n",
       "      <th>2</th>\n",
       "    </tr>\n",
       "  </thead>\n",
       "  <tbody>\n",
       "    <tr>\n",
       "      <th>Sınıf</th>\n",
       "      <td>Magazin</td>\n",
       "      <td>Magazin</td>\n",
       "      <td>Magazin</td>\n",
       "    </tr>\n",
       "    <tr>\n",
       "      <th>Haber Gövdesi</th>\n",
       "      <td>USTA OYUNCU RUTKAY AZİZ, 'ANKARA'NIN NESİ GÜZ...</td>\n",
       "      <td>Aleksandre Kodan'ın, BabbaMedia etiketiyle yay...</td>\n",
       "      <td>Emrah’ın yıllardır küs olduğu oğlu Tayfun evle...</td>\n",
       "    </tr>\n",
       "  </tbody>\n",
       "</table>\n",
       "</div>"
      ],
      "text/plain": [
       "                                                               0  \\\n",
       "Sınıf                                                    Magazin   \n",
       "Haber Gövdesi   USTA OYUNCU RUTKAY AZİZ, 'ANKARA'NIN NESİ GÜZ...   \n",
       "\n",
       "                                                               1  \\\n",
       "Sınıf                                                    Magazin   \n",
       "Haber Gövdesi  Aleksandre Kodan'ın, BabbaMedia etiketiyle yay...   \n",
       "\n",
       "                                                               2  \n",
       "Sınıf                                                    Magazin  \n",
       "Haber Gövdesi  Emrah’ın yıllardır küs olduğu oğlu Tayfun evle...  "
      ]
     },
     "execution_count": 6,
     "metadata": {},
     "output_type": "execute_result"
    }
   ],
   "source": [
    "# Create a new dataframe with two columns\n",
    "df1 = df[['Sınıf', 'Haber Gövdesi']].copy()\n",
    "\n",
    "print(df1.shape)\n",
    "df1.head(3).T"
   ]
  },
  {
   "cell_type": "code",
   "execution_count": 7,
   "id": "934e60b9-beab-426c-ac0b-8a4c54ea4a9e",
   "metadata": {},
   "outputs": [
    {
     "data": {
      "text/plain": [
       "array([['Magazin'],\n",
       "       ['Siyaset'],\n",
       "       ['Sağlık'],\n",
       "       ['Spor'],\n",
       "       ['Turizm'],\n",
       "       ['Kültür-Sanat'],\n",
       "       ['Finans-Ekonomi'],\n",
       "       ['Bilim-Teknoloji'],\n",
       "       ['Çevre']], dtype=object)"
      ]
     },
     "execution_count": 7,
     "metadata": {},
     "output_type": "execute_result"
    }
   ],
   "source": [
    "pd.DataFrame(df1[\"Sınıf\"].unique()).values"
   ]
  },
  {
   "cell_type": "code",
   "execution_count": 8,
   "id": "a00088a5-d032-4030-baab-15f3cfeecf93",
   "metadata": {},
   "outputs": [
    {
     "data": {
      "text/html": [
       "<div>\n",
       "<style scoped>\n",
       "    .dataframe tbody tr th:only-of-type {\n",
       "        vertical-align: middle;\n",
       "    }\n",
       "\n",
       "    .dataframe tbody tr th {\n",
       "        vertical-align: top;\n",
       "    }\n",
       "\n",
       "    .dataframe thead th {\n",
       "        text-align: right;\n",
       "    }\n",
       "</style>\n",
       "<table border=\"1\" class=\"dataframe\">\n",
       "  <thead>\n",
       "    <tr style=\"text-align: right;\">\n",
       "      <th></th>\n",
       "      <th>Sınıf</th>\n",
       "      <th>Haber Gövdesi</th>\n",
       "      <th>category_id</th>\n",
       "    </tr>\n",
       "  </thead>\n",
       "  <tbody>\n",
       "    <tr>\n",
       "      <th>608</th>\n",
       "      <td>Sağlık</td>\n",
       "      <td>Psikolog Didem Cengiz, SANKO Üniversitesi Sani...</td>\n",
       "      <td>0</td>\n",
       "    </tr>\n",
       "    <tr>\n",
       "      <th>1697</th>\n",
       "      <td>Bilim-Teknoloji</td>\n",
       "      <td>DUVAR - Dünyaca ünlü bilim insanı ve giyilebil...</td>\n",
       "      <td>1</td>\n",
       "    </tr>\n",
       "    <tr>\n",
       "      <th>790</th>\n",
       "      <td>Spor</td>\n",
       "      <td>Fenerbahçe'de 11 oyuncunun sözleşmesi sona er...</td>\n",
       "      <td>2</td>\n",
       "    </tr>\n",
       "    <tr>\n",
       "      <th>650</th>\n",
       "      <td>Sağlık</td>\n",
       "      <td>Birçok kişinin ortak sorunu olan saç dökülmesi...</td>\n",
       "      <td>0</td>\n",
       "    </tr>\n",
       "    <tr>\n",
       "      <th>1636</th>\n",
       "      <td>Bilim-Teknoloji</td>\n",
       "      <td>Apple öğretmenler için geliştirdiği yeni ücret...</td>\n",
       "      <td>1</td>\n",
       "    </tr>\n",
       "  </tbody>\n",
       "</table>\n",
       "</div>"
      ],
      "text/plain": [
       "                Sınıf                                      Haber Gövdesi  \\\n",
       "608            Sağlık  Psikolog Didem Cengiz, SANKO Üniversitesi Sani...   \n",
       "1697  Bilim-Teknoloji  DUVAR - Dünyaca ünlü bilim insanı ve giyilebil...   \n",
       "790              Spor   Fenerbahçe'de 11 oyuncunun sözleşmesi sona er...   \n",
       "650            Sağlık  Birçok kişinin ortak sorunu olan saç dökülmesi...   \n",
       "1636  Bilim-Teknoloji  Apple öğretmenler için geliştirdiği yeni ücret...   \n",
       "\n",
       "      category_id  \n",
       "608             0  \n",
       "1697            1  \n",
       "790             2  \n",
       "650             0  \n",
       "1636            1  "
      ]
     },
     "execution_count": 8,
     "metadata": {},
     "output_type": "execute_result"
    }
   ],
   "source": [
    "\n",
    "df2 =df1.sample(1998, random_state = 1).copy()\n",
    "# Creare a new column 'category_id' with encoded categories\n",
    "df2['category_id'] = df2['Sınıf'].factorize()[0]\n",
    "category_id_df = df2[['Sınıf','category_id']].drop_duplicates()\n",
    "# Dictionaries for future use\n",
    "category_to_id = dict(category_id_df.values)\n",
    "id_to_category = dict(category_id_df[['category_id', 'Sınıf']].values)\n",
    "# New dataframe\n",
    "df2.head()"
   ]
  },
  {
   "cell_type": "code",
   "execution_count": 15,
   "id": "9461b4f2-ece1-475a-bf1d-115e5586975c",
   "metadata": {},
   "outputs": [],
   "source": [
    "df2 = df2.rename(columns={'Haber Gövdesi': 'HaberGovdesi'})"
   ]
  },
  {
   "cell_type": "code",
   "execution_count": 16,
   "id": "c1553e5a-f724-4dab-ae8e-3224cb3c1701",
   "metadata": {},
   "outputs": [
    {
     "data": {
      "text/html": [
       "<div>\n",
       "<style scoped>\n",
       "    .dataframe tbody tr th:only-of-type {\n",
       "        vertical-align: middle;\n",
       "    }\n",
       "\n",
       "    .dataframe tbody tr th {\n",
       "        vertical-align: top;\n",
       "    }\n",
       "\n",
       "    .dataframe thead th {\n",
       "        text-align: right;\n",
       "    }\n",
       "</style>\n",
       "<table border=\"1\" class=\"dataframe\">\n",
       "  <thead>\n",
       "    <tr style=\"text-align: right;\">\n",
       "      <th></th>\n",
       "      <th>Sınıf</th>\n",
       "      <th>HaberGovdesi</th>\n",
       "      <th>category_id</th>\n",
       "    </tr>\n",
       "  </thead>\n",
       "  <tbody>\n",
       "    <tr>\n",
       "      <th>608</th>\n",
       "      <td>Sağlık</td>\n",
       "      <td>Psikolog Didem Cengiz, SANKO Üniversitesi Sani...</td>\n",
       "      <td>0</td>\n",
       "    </tr>\n",
       "    <tr>\n",
       "      <th>1697</th>\n",
       "      <td>Bilim-Teknoloji</td>\n",
       "      <td>DUVAR - Dünyaca ünlü bilim insanı ve giyilebil...</td>\n",
       "      <td>1</td>\n",
       "    </tr>\n",
       "    <tr>\n",
       "      <th>790</th>\n",
       "      <td>Spor</td>\n",
       "      <td>Fenerbahçe'de 11 oyuncunun sözleşmesi sona er...</td>\n",
       "      <td>2</td>\n",
       "    </tr>\n",
       "    <tr>\n",
       "      <th>650</th>\n",
       "      <td>Sağlık</td>\n",
       "      <td>Birçok kişinin ortak sorunu olan saç dökülmesi...</td>\n",
       "      <td>0</td>\n",
       "    </tr>\n",
       "    <tr>\n",
       "      <th>1636</th>\n",
       "      <td>Bilim-Teknoloji</td>\n",
       "      <td>Apple öğretmenler için geliştirdiği yeni ücret...</td>\n",
       "      <td>1</td>\n",
       "    </tr>\n",
       "  </tbody>\n",
       "</table>\n",
       "</div>"
      ],
      "text/plain": [
       "                Sınıf                                       HaberGovdesi  \\\n",
       "608            Sağlık  Psikolog Didem Cengiz, SANKO Üniversitesi Sani...   \n",
       "1697  Bilim-Teknoloji  DUVAR - Dünyaca ünlü bilim insanı ve giyilebil...   \n",
       "790              Spor   Fenerbahçe'de 11 oyuncunun sözleşmesi sona er...   \n",
       "650            Sağlık  Birçok kişinin ortak sorunu olan saç dökülmesi...   \n",
       "1636  Bilim-Teknoloji  Apple öğretmenler için geliştirdiği yeni ücret...   \n",
       "\n",
       "      category_id  \n",
       "608             0  \n",
       "1697            1  \n",
       "790             2  \n",
       "650             0  \n",
       "1636            1  "
      ]
     },
     "execution_count": 16,
     "metadata": {},
     "output_type": "execute_result"
    }
   ],
   "source": [
    "df2.head()"
   ]
  },
  {
   "cell_type": "code",
   "execution_count": 17,
   "id": "92949af5-e0ee-45ba-977e-9e9e0e4cf271",
   "metadata": {},
   "outputs": [
    {
     "data": {
      "image/png": "[encoded data removed]",
      "text/plain": [
       "<Figure size 800x600 with 1 Axes>"
      ]
     },
     "metadata": {},
     "output_type": "display_data"
    }
   ],
   "source": [
    "fig = plt.figure(figsize=(8,6))\n",
    "colors = ['grey','grey','grey','grey','grey','grey','grey','grey','grey',\n",
    "    'grey','darkblue','darkblue','darkblue']\n",
    "df2.groupby('Sınıf').HaberGovdesi.count().sort_values().plot.barh(\n",
    "    ylim=0, color=colors, title= 'NUMBER OF COMPLAINTS IN EACH PRODUCT CATEGORYn')\n",
    "plt.xlabel('Number of ocurrences', fontsize = 10);"
   ]
  },
  {
   "cell_type": "code",
   "execution_count": 20,
   "id": "e733244f-9556-403f-8cad-7ea175d6e5b4",
   "metadata": {},
   "outputs": [
    {
     "name": "stderr",
     "output_type": "stream",
     "text": [
      "[nltk_data] Downloading package stopwords to\n",
      "[nltk_data]     C:\\Users\\musta\\AppData\\Roaming\\nltk_data...\n",
      "[nltk_data]   Package stopwords is already up-to-date!\n"
     ]
    },
    {
     "data": {
      "text/plain": [
       "True"
      ]
     },
     "execution_count": 20,
     "metadata": {},
     "output_type": "execute_result"
    }
   ],
   "source": [
    "import nltk\n",
    "nltk.download('stopwords')"
   ]
  },
  {
   "cell_type": "code",
   "execution_count": 21,
   "id": "ea7507da-3c24-4a7e-92a7-03a9d6a372b2",
   "metadata": {},
   "outputs": [],
   "source": [
    "from sklearn.feature_extraction.text import TfidfVectorizer\n",
    "from nltk.corpus import stopwords\n",
    "\n",
    "# Türkçe stop-word listesi\n",
    "turkish_stopwords = set(stopwords.words('turkish'))"
   ]
  },
  {
   "cell_type": "code",
   "execution_count": 23,
   "id": "59630b43-39ad-4536-8a26-1ae1c7437387",
   "metadata": {},
   "outputs": [],
   "source": [
    "turkish_stopwords = list(stopwords.words('turkish'))"
   ]
  },
  {
   "cell_type": "code",
   "execution_count": 24,
   "id": "7c4b421b-c745-46b3-a770-acca6286b6bf",
   "metadata": {},
   "outputs": [
    {
     "name": "stdout",
     "output_type": "stream",
     "text": [
      "Each of the 1998 complaints is represented by 13928 features (TF-IDF score of unigrams and bigrams)\n"
     ]
    }
   ],
   "source": [
    "tfidf = TfidfVectorizer(sublinear_tf=True, min_df=5,\n",
    "                        ngram_range=(1, 2), \n",
    "                        stop_words=turkish_stopwords)\n",
    "# We transform each complaint into a vector\n",
    "features = tfidf.fit_transform(df2.HaberGovdesi).toarray()\n",
    "labels = df2.category_id\n",
    "print(\"Each of the %d complaints is represented by %d features (TF-IDF score of unigrams and bigrams)\" %(features.shape))"
   ]
  },
  {
   "cell_type": "code",
   "execution_count": 27,
   "id": "92049dc4-51a8-4bf5-a602-75b70e2e3671",
   "metadata": {},
   "outputs": [
    {
     "name": "stdout",
     "output_type": "stream",
     "text": [
      "n==> Bilim-Teknoloji:\n",
      "  * Most Correlated Unigrams are: iphone, akıllı, apple\n",
      "  * Most Correlated Bigrams are: yorumlar kısmından, yapay zeka, akıllı telefon\n",
      "n==> Finans-Ekonomi:\n",
      "  * Most Correlated Unigrams are: bitcoin, kripto, faiz\n",
      "  * Most Correlated Bigrams are: tarihli işlemlerden, altın fiyatları, 2024 tarihli\n",
      "n==> Kültür-Sanat:\n",
      "  * Most Correlated Unigrams are: festivali, sanat, tiyatro\n",
      "  * Most Correlated Bigrams are: yorum sim, edersiniz duvar, kültür sanat\n",
      "n==> Magazin:\n",
      "  * Most Correlated Unigrams are: survivor, şarkıcı, ünlü\n",
      "  * Most Correlated Bigrams are: güzel oyuncu, instagram hesabından, ünlü şarkıcı\n",
      "n==> Sağlık:\n",
      "  * Most Correlated Unigrams are: tedavi, sağlık, dr\n",
      "  * Most Correlated Bigrams are: uzmanı dr, prof dr, op dr\n",
      "n==> Siyaset:\n",
      "  * Most Correlated Unigrams are: kılıçdaroğlu, parti, chp\n",
      "  * Most Correlated Bigrams are: ak parti, çikan vi, yi parti\n",
      "n==> Spor:\n",
      "  * Most Correlated Unigrams are: süper, galatasaray, lig\n",
      "  * Most Correlated Bigrams are: lig in, teknik direktör, süper lig\n",
      "n==> Turizm:\n",
      "  * Most Correlated Unigrams are: turist, seyahat, turizm\n",
      "  * Most Correlated Bigrams are: updated on, kültür turizm, turizm bakanı\n",
      "n==> Çevre:\n",
      "  * Most Correlated Unigrams are: dunya, çed, çevre\n",
      "  * Most Correlated Bigrams are: çevre şehircilik, dunya com, kaynak dunya\n"
     ]
    }
   ],
   "source": [
    "# Finding the three most correlated terms with each of the product categories\n",
    "N = 3\n",
    "for Sınıf, category_id in sorted(category_to_id.items()):\n",
    "  features_chi2 = chi2(features, labels == category_id)\n",
    "  indices = np.argsort(features_chi2[0])\n",
    "  feature_names = np.array(tfidf.get_feature_names_out())[indices]  # get_feature_names_out() kullanıldı\n",
    "  unigrams = [v for v in feature_names if len(v.split(' ')) == 1]\n",
    "  bigrams = [v for v in feature_names if len(v.split(' ')) == 2]\n",
    "  print(\"n==> %s:\" %(Sınıf))\n",
    "  print(\"  * Most Correlated Unigrams are: %s\" %(', '.join(unigrams[-N:])))\n",
    "  print(\"  * Most Correlated Bigrams are: %s\" %(', '.join(bigrams[-N:])))"
   ]
  },
  {
   "cell_type": "code",
   "execution_count": 30,
   "id": "90c02e33-2140-42de-8f54-e6134335b0e3",
   "metadata": {},
   "outputs": [],
   "source": [
    "X = df2['HaberGovdesi'] # Collection of documents\n",
    "y = df2['Sınıf'] # Target or the labels we want to predict (i.e., the 13 different complaints of products)\n",
    "X_train, X_test, y_train, y_test = train_test_split(X, y, \n",
    "                                                    test_size=0.25,\n",
    "                                                    random_state = 0)"
   ]
  },
  {
   "cell_type": "code",
   "execution_count": 31,
   "id": "2e3602fe-d494-4d93-b0bc-dd3cc2203a24",
   "metadata": {},
   "outputs": [
    {
     "name": "stderr",
     "output_type": "stream",
     "text": [
      "C:\\Users\\musta\\AppData\\Local\\Programs\\Python\\Python311\\Lib\\site-packages\\sklearn\\svm\\_classes.py:32: FutureWarning: The default value of `dual` will change from `True` to `'auto'` in 1.5. Set the value of `dual` explicitly to suppress the warning.\n",
      "  warnings.warn(\n",
      "C:\\Users\\musta\\AppData\\Local\\Programs\\Python\\Python311\\Lib\\site-packages\\sklearn\\svm\\_classes.py:32: FutureWarning: The default value of `dual` will change from `True` to `'auto'` in 1.5. Set the value of `dual` explicitly to suppress the warning.\n",
      "  warnings.warn(\n",
      "C:\\Users\\musta\\AppData\\Local\\Programs\\Python\\Python311\\Lib\\site-packages\\sklearn\\svm\\_classes.py:32: FutureWarning: The default value of `dual` will change from `True` to `'auto'` in 1.5. Set the value of `dual` explicitly to suppress the warning.\n",
      "  warnings.warn(\n",
      "C:\\Users\\musta\\AppData\\Local\\Programs\\Python\\Python311\\Lib\\site-packages\\sklearn\\svm\\_classes.py:32: FutureWarning: The default value of `dual` will change from `True` to `'auto'` in 1.5. Set the value of `dual` explicitly to suppress the warning.\n",
      "  warnings.warn(\n",
      "C:\\Users\\musta\\AppData\\Local\\Programs\\Python\\Python311\\Lib\\site-packages\\sklearn\\svm\\_classes.py:32: FutureWarning: The default value of `dual` will change from `True` to `'auto'` in 1.5. Set the value of `dual` explicitly to suppress the warning.\n",
      "  warnings.warn(\n"
     ]
    }
   ],
   "source": [
    "models = [\n",
    "    RandomForestClassifier(n_estimators=100, max_depth=5, random_state=0),\n",
    "    LinearSVC(),\n",
    "    MultinomialNB(),\n",
    "    LogisticRegression(random_state=0),\n",
    "]\n",
    "# 5 Cross-validation\n",
    "CV = 5\n",
    "cv_df = pd.DataFrame(index=range(CV * len(models)))\n",
    "entries = []\n",
    "for model in models:\n",
    "  model_name = model.__class__.__name__\n",
    "  accuracies = cross_val_score(model, features, labels, scoring='accuracy', cv=CV)\n",
    "  for fold_idx, accuracy in enumerate(accuracies):\n",
    "    entries.append((model_name, fold_idx, accuracy))\n",
    "cv_df = pd.DataFrame(entries, columns=['model_name', 'fold_idx', 'accuracy'])"
   ]
  },
  {
   "cell_type": "code",
   "execution_count": 32,
   "id": "6cb2e9a4-e1d0-4806-89bd-44b0509f2a47",
   "metadata": {},
   "outputs": [
    {
     "data": {
      "text/html": [
       "<div>\n",
       "<style scoped>\n",
       "    .dataframe tbody tr th:only-of-type {\n",
       "        vertical-align: middle;\n",
       "    }\n",
       "\n",
       "    .dataframe tbody tr th {\n",
       "        vertical-align: top;\n",
       "    }\n",
       "\n",
       "    .dataframe thead th {\n",
       "        text-align: right;\n",
       "    }\n",
       "</style>\n",
       "<table border=\"1\" class=\"dataframe\">\n",
       "  <thead>\n",
       "    <tr style=\"text-align: right;\">\n",
       "      <th></th>\n",
       "      <th>Mean Accuracy</th>\n",
       "      <th>Standard deviation</th>\n",
       "    </tr>\n",
       "    <tr>\n",
       "      <th>model_name</th>\n",
       "      <th></th>\n",
       "      <th></th>\n",
       "    </tr>\n",
       "  </thead>\n",
       "  <tbody>\n",
       "    <tr>\n",
       "      <th>LinearSVC</th>\n",
       "      <td>0.808306</td>\n",
       "      <td>0.010893</td>\n",
       "    </tr>\n",
       "    <tr>\n",
       "      <th>LogisticRegression</th>\n",
       "      <td>0.796787</td>\n",
       "      <td>0.020159</td>\n",
       "    </tr>\n",
       "    <tr>\n",
       "      <th>MultinomialNB</th>\n",
       "      <td>0.778274</td>\n",
       "      <td>0.018817</td>\n",
       "    </tr>\n",
       "    <tr>\n",
       "      <th>RandomForestClassifier</th>\n",
       "      <td>0.641137</td>\n",
       "      <td>0.016486</td>\n",
       "    </tr>\n",
       "  </tbody>\n",
       "</table>\n",
       "</div>"
      ],
      "text/plain": [
       "                        Mean Accuracy  Standard deviation\n",
       "model_name                                               \n",
       "LinearSVC                    0.808306            0.010893\n",
       "LogisticRegression           0.796787            0.020159\n",
       "MultinomialNB                0.778274            0.018817\n",
       "RandomForestClassifier       0.641137            0.016486"
      ]
     },
     "execution_count": 32,
     "metadata": {},
     "output_type": "execute_result"
    }
   ],
   "source": [
    "mean_accuracy = cv_df.groupby('model_name').accuracy.mean()\n",
    "std_accuracy = cv_df.groupby('model_name').accuracy.std()\n",
    "\n",
    "acc = pd.concat([mean_accuracy, std_accuracy], axis= 1, \n",
    "          ignore_index=True)\n",
    "acc.columns = ['Mean Accuracy', 'Standard deviation']\n",
    "acc"
   ]
  },
  {
   "cell_type": "code",
   "execution_count": 33,
   "id": "8af8339f-a902-422c-b6f3-6c49984b6a4c",
   "metadata": {},
   "outputs": [
    {
     "data": {
      "image/png": "[encoded data removed]",
      "text/plain": [
       "<Figure size 800x500 with 1 Axes>"
      ]
     },
     "metadata": {},
     "output_type": "display_data"
    }
   ],
   "source": [
    "plt.figure(figsize=(8,5))\n",
    "sns.boxplot(x='model_name', y='accuracy', \n",
    "            data=cv_df, \n",
    "            color='lightblue', \n",
    "            showmeans=True)\n",
    "plt.title(\"MEAN ACCURACY (cv = 5)n\", size=14);"
   ]
  },
  {
   "cell_type": "code",
   "execution_count": 34,
   "id": "2565f54d-ea71-405c-bcca-e555f8769f64",
   "metadata": {},
   "outputs": [
    {
     "name": "stderr",
     "output_type": "stream",
     "text": [
      "C:\\Users\\musta\\AppData\\Local\\Programs\\Python\\Python311\\Lib\\site-packages\\sklearn\\svm\\_classes.py:32: FutureWarning: The default value of `dual` will change from `True` to `'auto'` in 1.5. Set the value of `dual` explicitly to suppress the warning.\n",
      "  warnings.warn(\n"
     ]
    }
   ],
   "source": [
    "X_train, X_test, y_train, y_test,indices_train,indices_test = train_test_split(features,labels, df2.index, test_size=0.25,random_state=1)\n",
    "model = LinearSVC()\n",
    "model.fit(X_train, y_train)\n",
    "y_pred = model.predict(X_test)"
   ]
  },
  {
   "cell_type": "code",
   "execution_count": 35,
   "id": "547b2278-2199-4553-9707-adc305bd4496",
   "metadata": {},
   "outputs": [
    {
     "name": "stdout",
     "output_type": "stream",
     "text": [
      "ttttCLASSIFICATIION METRICSn\n",
      "                 precision    recall  f1-score   support\n",
      "\n",
      "         Sağlık       0.87      0.94      0.90        70\n",
      "Bilim-Teknoloji       0.85      0.79      0.82        52\n",
      "           Spor       0.98      0.96      0.97        49\n",
      " Finans-Ekonomi       0.81      0.78      0.80        60\n",
      "         Turizm       0.72      0.82      0.77        44\n",
      "          Çevre       0.84      0.69      0.76        52\n",
      "   Kültür-Sanat       0.70      0.80      0.75        54\n",
      "        Siyaset       0.79      0.74      0.76        61\n",
      "        Magazin       0.86      0.88      0.87        58\n",
      "\n",
      "       accuracy                           0.82       500\n",
      "      macro avg       0.83      0.82      0.82       500\n",
      "   weighted avg       0.83      0.82      0.82       500\n",
      "\n"
     ]
    }
   ],
   "source": [
    "# Classification report\n",
    "print('ttttCLASSIFICATIION METRICSn')\n",
    "print(metrics.classification_report(y_test, y_pred, \n",
    "                                    target_names= df2['Sınıf'].unique()))"
   ]
  },
  {
   "cell_type": "code",
   "execution_count": 37,
   "id": "f179f22a-ec23-4691-87fd-fef67207c0f7",
   "metadata": {},
   "outputs": [
    {
     "data": {
      "image/png": "[encoded data removed]",
      "text/plain": [
       "<Figure size 800x800 with 2 Axes>"
      ]
     },
     "metadata": {},
     "output_type": "display_data"
    }
   ],
   "source": [
    "conf_mat = confusion_matrix(y_test, y_pred)\n",
    "fig, ax = plt.subplots(figsize=(8,8))\n",
    "sns.heatmap(conf_mat, annot=True, cmap=\"Blues\", fmt='d',\n",
    "            xticklabels=category_id_df.Sınıf.values, \n",
    "            yticklabels=category_id_df.Sınıf.values)\n",
    "plt.ylabel('Actual')\n",
    "plt.xlabel('Predicted')\n",
    "plt.title(\"CONFUSION MATRIX - LinearSVCn\", size=16);"
   ]
  },
  {
   "cell_type": "code",
   "execution_count": 38,
   "id": "c20a01f7-39fb-4974-9265-53c16c96bf90",
   "metadata": {},
   "outputs": [
    {
     "name": "stderr",
     "output_type": "stream",
     "text": [
      "C:\\Users\\musta\\AppData\\Local\\Programs\\Python\\Python311\\Lib\\site-packages\\sklearn\\svm\\_classes.py:32: FutureWarning: The default value of `dual` will change from `True` to `'auto'` in 1.5. Set the value of `dual` explicitly to suppress the warning.\n",
      "  warnings.warn(\n"
     ]
    }
   ],
   "source": [
    "X_train, X_test, y_train, y_test = train_test_split(X, y, \n",
    "                                                    test_size=0.25,\n",
    "                                                    random_state = 0)\n",
    "tfidf = TfidfVectorizer(sublinear_tf=True, min_df=5,\n",
    "                        ngram_range=(1, 2), \n",
    "                        stop_words=turkish_stopwords)\n",
    "\n",
    "fitted_vectorizer = tfidf.fit(X_train)\n",
    "tfidf_vectorizer_vectors = fitted_vectorizer.transform(X_train)\n",
    "model = LinearSVC().fit(tfidf_vectorizer_vectors, y_train)"
   ]
  },
  {
   "cell_type": "code",
   "execution_count": 40,
   "id": "20220abc-ecd0-460a-a65a-d4b26a93aa64",
   "metadata": {},
   "outputs": [
    {
     "name": "stdout",
     "output_type": "stream",
     "text": [
      "['Finans-Ekonomi']\n"
     ]
    }
   ],
   "source": [
    "complaint = \"\"\"Hazine ve Maliye Bakanı Mehmet Şimşek, kayıt dışı ekonomiyle mücadele amacıyla attıkları adımları genişlettiklerini söyledi.\n",
    "\n",
    "Gelir İdaresi Başkanlığının, işletmelerde kullanılan POS cihazlarından gerçekleştirilen tahsilat tutarlarından oluşan hasılatın beyan edilip edilmediğini gündemine aldığını bildiren Şimşek, bu kapsamda olası vergi kayıp ve kaçağının denetlediğini aktardı.\n",
    "\n",
    "Şimşek, Başkanlık tarafından 2021 ve 2022 yıllarına ilişkin yapılan analiz çalışmalarından hareketle vergi kayıp ve kaçağına neden olduğu yönünde emareler bulunan işletmeler hakkında denetimlere başlandığına dikkati çekerek, denetim sonuçlarına ilişkin şu bilgileri paylaştı:\n",
    "\n",
    "\"Denetim çalışmalarında, vergi mükellefi olmadığı halde üzerlerine kayıtlı POS cihazları bulunan ve bu cihazlar üzerinden hasılat elde eden 2 bin 320 kişi ele alındı. Bu kişilerin toplamda 3 milyar lira kayıt dışı hasılat elde ettiği ve vergi idaresinin bilgisi dışında bıraktığı belirlendi. Mükellefiyeti olan 1342 kişinin ise yine POS cihazları üzerinden elde ettiği toplamda 2 milyar lira hasılatı beyanlarına yansıtmadığı veya eksik yansıttığı tespit edildi. Böylece Gelir İdaresi Başkanlığımız, POS cihazlarından gerçekleştirdiği tahsilatın hasılat kaydını yapmayan 3 bin 662 kişiyi tespit etti. Bu kişilerin 5 milyar liralık POS hasılatının beyan edilmesi sağlandı.\"\n",
    "\n",
    "\"1,5 milyar lira vergi tahakkuk ettirildi\"\n",
    "Bu süreçte söz konusu kişilerin vergi daireleri tarafından izaha davet edildiğini belirten Şimşek, \"Bu kişilerden 2021 ve 2022 yıllarına ilişkin vergi mükellefiyetlerine göre gelir vergisi, kurumlar vergisi, katma değer vergisi beyannameleri ile muhtasar beyannameleri olmak üzere 18 bin 500 vergi beyannamesi alındı. Kayıt dışı bırakılan yaklaşık 5 milyar liralık POS hasılatının beyan edilmesi de bu şekilde sağlandı\" diye konuştu.\n",
    "\n",
    "Şimşek, bu çalışma sonucunda 1,5 milyar lira vergi tahakkuk ettirildiğine işaret etti.\n",
    "\n",
    "\"Mükellef olmadan POS hasılatı elde ediyorlar\"\n",
    "Denetim çalışmalarında çarpıcı örneklere rastlandığını da anlatan Şimşek, \"Denetimlerde vergi mükellefi olmadan 1 milyon liranın üzerinde POS hasılatı elde eden 81 kişi bulundu. Bu mükelleflerin ilgili dönemlerdeki hasılat tutarının yaklaşık 253 milyon lira olduğu görüldü. Bunlar arasında toptan ayakkabı, hırdavat malzemeleri, tekstil ürünleri ve beyaz eşya ticareti başta olmak üzere çeşitli alanlarda faaliyetlerde bulunan kişilerin yer aldığı tespit edildi\" ifadesini kullandı.\n",
    "\n",
    "Bakan Şimşek, benzer çalışmanın 2023 yılı verileri üzerinden de yapıldığını belirtirken, \"Elde edilen sonuçlar üzerine gerekli işlemler yapılacak. Kayıt dışı ekonomiyle mücadelemiz tavizsiz ve güçlü şekilde devam edecek\" diye konuştu.\"\"\"\n",
    "print(model.predict(fitted_vectorizer.transform([complaint])))"
   ]
  },
  {
   "cell_type": "code",
   "execution_count": 41,
   "id": "d1553cff-718d-438d-8531-5177f3a505f4",
   "metadata": {},
   "outputs": [
    {
     "name": "stdout",
     "output_type": "stream",
     "text": [
      "['Sağlık']\n"
     ]
    }
   ],
   "source": [
    "complaint = \"\"\"Nadir görülen bir yüksek tansiyon türü olan \"pulmoner hipertansiyon\" hastası 60 yaşındaki Aykut İnciler, akciğerinin fonksiyonlarını yerine getirememesi sonucu 3 yıldır çantasında taşıdığı yapay akciğer cihazıyla hayatını sürdürüyor.\n",
    "Ankara'da yaşayan İnciler, 2009'da başlayan oksijen azalması sonucu 3 yıl önce sağlık kuruluşuna başvurdu. Yapılan tetkikler sonucu İnciler'e pulmoner hipertansiyon teşhisi konuldu.\n",
    "\n",
    "İnciler, küçük hareketlerde nefes darlığı çekmeye başladığını belirterek, \"Nefes almakta yaşadığım güçlükleri ilk olarak televizyon kumandasını almak için eğilip, doğrulmada fark ettim. Sonra ayakkabı bağlarken nefes darlığı yaşıyordum, küçük hareketlerde de nefes darlığını fark ettim. Tetkiklerin ardından teşhis konuldu.\" dedi.\n",
    "\n",
    "İnceler, hastalığının tedavisinin olmadığını, ilerlemesini geciktirmek için ilaç tedavisi uygulandığını anlattı.\n",
    "\n",
    "Yaşamak için 3 yıldır çantasında yapay akciğeri taşıdığını belirten İnciler, önceleri insanların bakışları nedeniyle psikolojik olarak zorlandığını ama zamanla buna alıştığını ifade etti.İnciler, birçok kişinin yaşamak için organa ihtiyaç duyduğunu, bu nedenle organ bağışının büyük önem taşıdığını söyledi.\n",
    "\n",
    "Yapay akciğer cihazını, 24 saat kullanmak zorunda olduğunu belirten İnciler, şöyle konuştu:\n",
    "\n",
    "\"Yetmediğinde evde daha büyük destek cihazları var, onlara geçiyorum, bunu sürekli kullanmam gerekiyor. Benim kalbimde sorun olduğu için organ nakli çok mümkün değil ama bu hastalar için organ bulunamıyor.\n",
    "\n",
    "İnsanlarımızda bu bilinç yok. Keşke insanlar doğduğunda organ bağışçısı olarak doğsa, 18 yaşına geldiğinde istemiyorsa kararını o zaman verse. Lütfen organlarınızı toprak etmeyin. Bir insan organlarıyla ortalama 11 insanı kurtarabiliyor. Bu hastalık için organ bağışı çok önemli, tek tedavi yolu bu.İnciler, hastalıkla birlikte oksijenin ne kadar önemli olduğunu anladığını vurgulayarak, sözlerini şöyle sürdürdü:\n",
    "\n",
    "\"Aldığımız her nefes çok önemli. Nefes almanın bu kadar önemli olduğunu bilmiyordum. Bakın nefes alıyoruz ama hiç farkında değiliz. Ben akciğerimi yanımda taşıyorum. Bu nefes benim için önemli başka çarem yok. Akciğerini yanında taşımayı yaşamayanlar bilemiyor maalesef. Umarım organ bağışına farkındalık olur, lütfen organlarınızı toprak etmeyin, bağışlayın.Kardiyoloji Uzmanı Prof. Dr. Serdar Kula, pulmoner hipertansiyonun, dünyada oldukça nadir görülen ve tedavisi bulunmayan ölümcül hastalıkların en tehlikelilerinden olduğunu kaydetti.\n",
    "\n",
    "Hastaların nefes darlığı, çabuk yorulma, ayaklarda şişlik ve morarma gibi şikayetlerle sağlık kuruluşlarına başvurduklarını kaydeden Kula, şunları söyledi:\n",
    "\n",
    "\"Kesin tedavisi olan bir hastalık değil, elimizde sınırlı tedaviler var. Nihai tedavi olarak akciğer nakli karşımıza çıkıyor, o da tüm dünyada olduğu gibi ülkemizde de sınırlı olarak yapılıyor. Bu hastalığın ortaya çıkışında bir yaş sınırı yok, yeni doğandan itibaren görülebiliyor. Bu hastalık her yaşta ortaya çıkabilir. Özellikle anne babalar için travmatik olan tarafı da bu. Çocuk sapasağlam, hiçbir sağlık sorunu yok ve bir anda herhangi bir yaşta hastalığın belirtileri ortaya çıkıyor.\"\"\"\"\"\n",
    "print(model.predict(fitted_vectorizer.transform([complaint])))"
   ]
  },
  {
   "cell_type": "code",
   "execution_count": 42,
   "id": "aebf8b0b-4a10-4022-8a78-384f9cb104d0",
   "metadata": {},
   "outputs": [
    {
     "name": "stdout",
     "output_type": "stream",
     "text": [
      "['Turizm']\n"
     ]
    }
   ],
   "source": [
    "complaint = \"\"\"Kapadokya’da turizmin çeşitlendirilmesi ve bölgenin uluslararası alanda tanıtımının artırılması amacıyla Kapadokya Alan Başkanlığı öncülüğünde, Kapadokya Üniversitesi ve Nevşehir Valiliği iş birliğiyle “Nevşehir İli Turizm Master Planı” hazırlandı.\n",
    "\n",
    "Nevşehir Valisi Ali Fidan ve Kapadokya Alan Başkanı Birol İnceciköz’ün katıldığı törenle imzalanan protokol ile “Nevşehir İli Turizm Master Planı” için ilk adım atıldı.\n",
    "\n",
    "Nevşehir Vilayetler Evi’nde düzenlenen imza töreninde konuşan Nevşehir Valisi Ali Fidan, “Bugün ilimiz için güzel bir çalışma için, önemli sonuçlar alınacak bir çalışma için bir araya gelmiş bulunuyoruz. Öncelikle Kültür ve Turizm Bakanlığımız öncülüğünde Valiliğimiz ve Alan Başkanlığımız iş birliğinde Kapadokya Üniversitemiz tarafından hazırlanacak ilimiz master planının ilimiz, ülkemiz ve vatandaşlarımız için turizm sektörümüz için hayırlı olmasını hayırlı sonuçlar getirmesini diliyorum” dedi.\n",
    "\n",
    "Kapadokya’nın önemli bir turizm destinasyonu olduğunun altını çizen Vali Fidan, “Bütün paydaşlarımızla, kamu sektörümüz, üniversitemiz, turizm alanında çalışan STK’lar ve sektör el birliğiyle ilimiz turizmini daha da geliştirmek, daha iyi tanıtmak, turizmden elde ettiğimiz geliri daha da yükseltmek için gayretli bir çabanın içerisindeyiz. Ben inanıyorum ki, master plan hazırlandıktan sonra ortaya konacak hedefler, ortaya konacak projeler çizilecek yeni vizyon, ilimiz turizminin daha da gelişmesine katkı sağlayacak. İlimizde kalış sürelerinin uzadığı, turizmden daha çok gelir elde edildiği, ilimizin her bir köşesinde yaşayan vatandaşlarımızın turizmden faydalandığı yerel kaynakların etkin bir şekilde kullanıldığı, sürdürülebilir rekabetçi bir şekilde kullanıldığı bir turizm aşamasına geçmiş olacağız.” diye konuştu.\n",
    "\n",
    "Kapadokya Alan Başkanı Birol İnceciköz de Nevşehir tarihinde ilk kez bir master plan hazırlandığını vurgulayarak şunları söyledi:\n",
    "\n",
    "“Nevşehir Valiliğimiz ve Kapadokya Alan Başkanlığımız ortaklığıyla tarihinde ilk kez bu güzide coğrafyanın “Turizm Master Planı” çalışmaları için ortak bir protokole imza atacağız. Biliyorsunuz bölgemiz turizm şehri, ana sektörlerinden bir tanesi turizm, bu tür turizm faaliyetlerinin çeşitliliğini artırmak üzere, planlı ve sistemli bir biçimde bugüne kadar keşfedilmemiş birçok noktasını tekrar keşfedilebilir hale getirmek üzere bir plan çalışması yapıyoruz. Başta Sayın Cumhurbaşkanımız Recep Tayyip Erdoğan olmak üzere, Sayın Bakanımızın himayelerinde birçok ilde turizmi Anadolu coğrafyasına yaymak, 2028 turizm hedeflerine ulaşabilmek için oldukça önemli çalışmalar yapıyoruz. Şimdi bugün Kapadokya’da bu çalışmaların en önemlilerinden bir tanesindeyiz.”\n",
    "\n",
    "Kapadokya Üniversitesi Rektörü Prof. Dr. Hasan Ali Karasar ise master planın, kamu ve özel sektör arasında bir eşgüdüm olduğunu ifade ederek makro bir master plan hazırlanacağını belirtti.\n",
    "\n",
    "Karasar, master plan sürecinin 3-6 ay arasında değişeceğini ve yaklaşık 24 kişilik bir ekibin çalışacağını da sözlerine ekledi.\n",
    "\n",
    "Nevşehir’in turizm potansiyelinin en iyi şekilde değerlendirilmesinin hedeflendiği plan ile Kapadokya’nın turistik değerlerini koruyup geliştirerek sürdürülebilir turizm faaliyetleri teşvik edilecek.\n",
    "\n",
    "Geçen yıl yaklaşık 5 milyon turist ağırlayan Kapadokya bölgesinin hedef pazarlarının çeşitlendirilmesi yönünde yapılacak çalışmaları da içeren planla sportif faaliyet rotalarının oluşturulması, doğa, bisiklet yolları ve kamp tesislerinin geliştirilmesi, eko ve agro turizm gibi köylerin kalkınmasını sağlayacak faaliyetlere odaklanılacak.\n",
    "\n",
    "Nevşehir İli Turizm Master Planı’yla ayrıca, tarihi dokuların korunmasına yönelik farkındalık çalışmalarının gerçekleştirilmesi, nitelikli tesis yatırımları ile bölgenin uluslararası alanda tanıtımını attırmak amacıyla ilgili kurumlarla iş birliklerinin yapılması da hedefleniyor.\n",
    "\n",
    "Somut olmayan kültürel mirasa yönelik turizmin arttırılması için de çalışmaların öngörüldüğü planla, aynı zamanda Kapadokya’nın tarihi dokusunun korunmasına yönelik farkındalık çalışmaları da hız kesmeden yürütülecek.\n",
    "\n",
    "Türkiye, turizm alanında dünya çapında rekabet gücünü artırmak, 2028 yılında dünyanın en çok turist çeken ve en fazla turizm geliri elde eden ilk beş ülkesinden biri olmak için adımlar atmaya devam ediyor.\n",
    "\n",
    "Bu kapsamda, Kültür ve Turizm Bakanlığı’nca belirlenen Türkiye Turizm Ana Planı'na uygun olarak şehirlerin İl Turizm Master Planları hazırlanıyor.\"\"\"\n",
    "print(model.predict(fitted_vectorizer.transform([complaint])))"
   ]
  },
  {
   "cell_type": "code",
   "execution_count": null,
   "id": "53da4bf8-e9a6-4455-b426-d3e10f16685d",
   "metadata": {},
   "outputs": [],
   "source": []
  }
 ],
 "metadata": {
  "kernelspec": {
   "display_name": "Python 3 (ipykernel)",
   "language": "python",
   "name": "python3"
  },
  "language_info": {
   "codemirror_mode": {
    "name": "ipython",
    "version": 3
   },
   "file_extension": ".py",
   "mimetype": "text/x-python",
   "name": "python",
   "nbconvert_exporter": "python",
   "pygments_lexer": "ipython3",
   "version": "3.11.1"
  }
 },
 "nbformat": 4,
 "nbformat_minor": 5
}
